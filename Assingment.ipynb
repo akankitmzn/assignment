{
 "cells": [
  {
   "cell_type": "markdown",
   "id": "a524b932-580f-41ea-896e-d9ce4bceae02",
   "metadata": {},
   "source": [
    "Q1. Create one variable containing following type of data:\n",
    "(i) string\n",
    "(ii) list\n",
    "(iii) float\n",
    "(iv) tuple"
   ]
  },
  {
   "cell_type": "markdown",
   "id": "a892c6b4-c08b-4bab-b42b-9db625df41de",
   "metadata": {},
   "source": [
    "Ans (i) a='Rahul'\n",
    "(ii) b=[1,2,3,3,6,]\n",
    "(iii) c=3.4\n",
    "(iv) d=(1,3,5,4,5,)"
   ]
  },
  {
   "cell_type": "markdown",
   "id": "8e8d6c2d-6fd8-4267-b439-0435999b4b41",
   "metadata": {},
   "source": [
    "Q2. Given are some following variables containing data:\n",
    "(i) var1 = ‘ ‘\n",
    "(ii) var2 = ‘[ DS , ML , Python]’\n",
    "(iii) var3 = [ ‘DS’ , ’ML’ , ‘Python’ ]\n",
    "(iv) var4 = 1\n",
    "What will be the data type of the above given variable."
   ]
  },
  {
   "cell_type": "markdown",
   "id": "4550495e-7273-40ca-9ab7-9bf268d3759c",
   "metadata": {},
   "source": [
    "(i) String\n",
    "(ii) string\n",
    "(iii) list\n",
    "(iv) int"
   ]
  },
  {
   "cell_type": "markdown",
   "id": "cbe34770-c6a2-48e5-a9d4-66a287fba864",
   "metadata": {},
   "source": [
    "Q3. Explain the use of the following operators using an example:\n",
    "(i) /\n",
    "(ii) %\n",
    "(iii) //\n",
    "(iv) **"
   ]
  },
  {
   "cell_type": "markdown",
   "id": "ea0fe0a4-8c00-4408-a59c-3a0cf48a44ef",
   "metadata": {},
   "source": [
    "(i) division\n",
    "(ii) modulas (remainder)\n",
    "(iii) floor dicidion\n",
    "(iv) power fector"
   ]
  },
  {
   "cell_type": "markdown",
   "id": "965ee792-80b3-4c44-9b22-833b91eccdf3",
   "metadata": {},
   "source": [
    "Q4. Create a list of length 10 of your choice containing multiple types of data. Using for loop print the\n",
    "element and its data type."
   ]
  },
  {
   "cell_type": "markdown",
   "id": "64aa0bc4-6ebe-4aa1-9a57-ba8275b50e7b",
   "metadata": {},
   "source": [
    "l=[1,\"Hellow\",3.4,]\n",
    "for i in l:\n",
    "print(\"i(i),data type(i)\")"
   ]
  },
  {
   "cell_type": "raw",
   "id": "37f89bd8-7df3-4b8f-9705-b16c61eeee1e",
   "metadata": {},
   "source": [
    "Q5. Using a while loop, verify if the number A is purely divisible by number B and if so then how many\n",
    "times it can be divisible."
   ]
  },
  {
   "cell_type": "markdown",
   "id": "e6165fe1-1534-4ea2-b481-aea3b7ec3fb7",
   "metadata": {},
   "source": [
    "a=50\n",
    "b=10\n",
    "c= a//b\n",
    "print(c)"
   ]
  },
  {
   "cell_type": "markdown",
   "id": "2b4dc232-db20-4278-846a-ac76b9a730ef",
   "metadata": {},
   "source": [
    "Q6. Create a list containing 25 int type data. Using for loop and if-else condition print if the element is\n",
    "divisible by 3 or not."
   ]
  },
  {
   "cell_type": "markdown",
   "id": "e8e7033e-6f5f-4f1d-9600-a5c468d5ad45",
   "metadata": {},
   "source": [
    "list = [i for i in range(1, 26)]\n",
    "\n",
    "for element in list:\n",
    "    if element % 3 == 0:\n",
    "        print({element} is divisible by 3.\")\n",
    "    else:\n",
    "        print({element} is not divisible by 3.\")"
   ]
  },
  {
   "cell_type": "markdown",
   "id": "2309e51e-6dd3-400e-8197-ec34cc48a7d7",
   "metadata": {},
   "source": [
    "Q7. What do you understand about mutable and immutable data types? Give examples for both showing\n",
    "this property."
   ]
  },
  {
   "cell_type": "markdown",
   "id": "124f4866-a5fc-4339-a306-25899ed56e41",
   "metadata": {},
   "source": [
    "which value we can change or update by indexing value it is called mutable like list is a mutable\n",
    "wich values we can not change or update by indexing it is called immutable like string is a immutable"
   ]
  }
 ],
 "metadata": {
  "kernelspec": {
   "display_name": "Python 3 (ipykernel)",
   "language": "python",
   "name": "python3"
  },
  "language_info": {
   "codemirror_mode": {
    "name": "ipython",
    "version": 3
   },
   "file_extension": ".py",
   "mimetype": "text/x-python",
   "name": "python",
   "nbconvert_exporter": "python",
   "pygments_lexer": "ipython3",
   "version": "3.10.8"
  }
 },
 "nbformat": 4,
 "nbformat_minor": 5
}
